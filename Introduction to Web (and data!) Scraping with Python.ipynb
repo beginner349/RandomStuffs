{
 "cells": [
  {
   "cell_type": "code",
   "execution_count": 1,
   "metadata": {
    "collapsed": true
   },
   "outputs": [],
   "source": [
    "import urllib.request\n",
    "from bs4 import BeautifulSoup"
   ]
  },
  {
   "cell_type": "markdown",
   "metadata": {},
   "source": [
    "Is the word 'python' on the pyladies homepage (http://pyladies.com) ?"
   ]
  },
  {
   "cell_type": "code",
   "execution_count": 2,
   "metadata": {},
   "outputs": [
    {
     "name": "stdout",
     "output_type": "stream",
     "text": [
      "False\n",
      "True\n"
     ]
    }
   ],
   "source": [
    "url = 'http://pyladies.com'\n",
    "source = urllib.request.urlopen(url)\n",
    "html = source.read()\n",
    "html = html.decode('utf-8')\n",
    "print('python' in html)\n",
    "print('Python' in html)"
   ]
  },
  {
   "cell_type": "markdown",
   "metadata": {},
   "source": [
    "Does google.com have an image? (hint: img tag!)"
   ]
  },
  {
   "cell_type": "code",
   "execution_count": 3,
   "metadata": {},
   "outputs": [
    {
     "data": {
      "text/plain": [
       "[<img alt=\"Day 3 of the Doodle Snow Games!\" border=\"0\" height=\"200\" id=\"hplogo\" onload=\"window.lol&amp;&amp;lol()\" src=\"/logos/doodles/2018/doodle-snow-games-day-3-4649927396294656.6-l.png\" title=\"Day 3 of the Doodle Snow Games!\" width=\"500\"/>]"
      ]
     },
     "execution_count": 3,
     "metadata": {},
     "output_type": "execute_result"
    }
   ],
   "source": [
    "html = urllib.request.urlopen('http://google.com')\n",
    "soup = BeautifulSoup(html, \"lxml\")\n",
    "soup.find_all('img')"
   ]
  },
  {
   "cell_type": "markdown",
   "metadata": {},
   "source": [
    "What are the first 10 characters on python.org"
   ]
  },
  {
   "cell_type": "code",
   "execution_count": 4,
   "metadata": {},
   "outputs": [
    {
     "data": {
      "text/plain": [
       "'<!doctype '"
      ]
     },
     "execution_count": 4,
     "metadata": {},
     "output_type": "execute_result"
    }
   ],
   "source": [
    "html = urllib.request.urlopen('https://www.python.org/').read()\n",
    "html = html.decode('utf-8')\n",
    "html[0:10]"
   ]
  },
  {
   "cell_type": "markdown",
   "metadata": {},
   "source": [
    "Bonus: Find your name on a web page!"
   ]
  },
  {
   "cell_type": "code",
   "execution_count": null,
   "metadata": {
    "collapsed": true
   },
   "outputs": [],
   "source": []
  },
  {
   "cell_type": "markdown",
   "metadata": {},
   "source": [
    "## Inspecting the Page\n",
    "Let’s take one page from the [Bloomberg Quote](https://www.bloomberg.com/quote/SPX:IND) website as an example.\n",
    "\n",
    "As someone following the stock market, we would like to get the index name (S&P 500) and its price from this page."
   ]
  },
  {
   "cell_type": "code",
   "execution_count": 5,
   "metadata": {
    "collapsed": true
   },
   "outputs": [],
   "source": [
    "# specify the url\n",
    "quote_page = ['https://www.bloomberg.com/quote/INDU:IND','https://www.bloomberg.com/quote/SPX:IND']"
   ]
  },
  {
   "cell_type": "code",
   "execution_count": 6,
   "metadata": {
    "collapsed": true
   },
   "outputs": [],
   "source": [
    "data = []\n",
    "# for loop\n",
    "for pg in quote_page:\n",
    "    # query the website and return the html to the variable ‘page’\n",
    "    page = urllib.request.urlopen(pg)\n",
    "    # parse the html using beautiful soap and store in variable `soup`\n",
    "    soup = BeautifulSoup(page, \"lxml\")\n",
    "    # Take out the <div> of name and get its value\n",
    "    name_box = soup.find('h1', attrs={'class': 'name'})\n",
    "    # strip() is used to remove starting and trailing\n",
    "    name = name_box.text.strip() \n",
    "    # get the index price\n",
    "    price_box = soup.find('div', attrs={'class':'price'})\n",
    "    price = price_box.text\n",
    "    # save the data in tuple\n",
    "    data.append((name, price))"
   ]
  },
  {
   "cell_type": "code",
   "execution_count": 7,
   "metadata": {
    "collapsed": true
   },
   "outputs": [],
   "source": [
    "import csv\n",
    "from datetime import datetime"
   ]
  },
  {
   "cell_type": "code",
   "execution_count": 8,
   "metadata": {
    "collapsed": true
   },
   "outputs": [],
   "source": [
    "# open a csv file with append, so old data will not be erased\n",
    "with open('stock_indexes_from_web_scraping.csv', 'a') as csv_file:\n",
    "    writer = csv.writer(csv_file)\n",
    "    # The for loop\n",
    "    for name, price in data:\n",
    "        writer.writerow([name, price, datetime.now()])"
   ]
  },
  {
   "cell_type": "code",
   "execution_count": null,
   "metadata": {
    "collapsed": true
   },
   "outputs": [],
   "source": []
  }
 ],
 "metadata": {
  "kernelspec": {
   "display_name": "Python 3",
   "language": "python",
   "name": "python3"
  },
  "language_info": {
   "codemirror_mode": {
    "name": "ipython",
    "version": 3
   },
   "file_extension": ".py",
   "mimetype": "text/x-python",
   "name": "python",
   "nbconvert_exporter": "python",
   "pygments_lexer": "ipython3",
   "version": "3.6.1"
  }
 },
 "nbformat": 4,
 "nbformat_minor": 2
}
